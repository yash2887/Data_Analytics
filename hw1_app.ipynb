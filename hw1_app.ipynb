{
 "cells": [
  {
   "cell_type": "code",
   "execution_count": 3,
   "metadata": {
    "scrolled": true
   },
   "outputs": [
    {
     "name": "stderr",
     "output_type": "stream",
     "text": [
      "Please update the `dash` module to >= 0.23.1 to use this version of dash_core_components.\n",
      "You are using version 0.17.3\n"
     ]
    },
    {
     "ename": "SystemExit",
     "evalue": "1",
     "output_type": "error",
     "traceback": [
      "An exception has occurred, use %tb to see the full traceback.\n",
      "\u001b[0;31mSystemExit\u001b[0m\u001b[0;31m:\u001b[0m 1\n"
     ]
    }
   ],
   "source": [
    "import dash\n",
    "import dash_core_components as dcc\n",
    "import dash_html_components as html\n",
    "from dash.dependencies import Input, Output\n",
    "import pickle\n",
    "# from dashapp import app as application\n",
    "\n",
    "import pandas as pd\n",
    "import plotly.graph_objs as go\n",
    "\n",
    "import numpy as np\n",
    "import pandas as pd\n",
    "import matplotlib.pyplot as plt\n",
    "import seaborn as sns\n",
    "import apyori as ap\n",
    "from apyori import apriori\n",
    "import mlxtend as ml\n",
    "from mlxtend.frequent_patterns import apriori\n",
    "from mlxtend.frequent_patterns import association_rules\n",
    "from mlxtend.preprocessing import TransactionEncoder\n",
    "\n",
    "import warnings\n",
    "warnings.filterwarnings('ignore')\n",
    "\n",
    "\n",
    "app = dash.Dash()\n",
    "\n",
    "external_stylesheets = ['https://codepen.io/chriddyp/pen/bWLwgP.css']\n",
    "\n",
    "app = dash.Dash(__name__, external_stylesheets=external_stylesheets)\n",
    "\n",
    "records=pickle.load( open( \"records.pkl\", \"rb\" ) )\n",
    "\n",
    "app = dash.Dash(__name__, external_stylesheets=external_stylesheets)\n",
    "server = app.server\n",
    "app.layout = html.Div(children=[html.Label('Support: '),\n",
    "            dcc.Input(\n",
    "        id='min_support',\n",
    "        type='number',\n",
    "        step=0.01,\n",
    "        value=0.6\n",
    "    ),html.Label('Confidence: '),dcc.Input(\n",
    "        id='min_confidence',\n",
    "        type='number',\n",
    "        step=0.01,\n",
    "        value=0.6\n",
    "    ),html.Label('Lift: '),\n",
    "    dcc.Input(\n",
    "        id='min_lift',\n",
    "        type='number',\n",
    "        step=0.01,\n",
    "        value=1\n",
    "    ),html.H1(children='Association Rules'),\n",
    "    html.Div(id='rules'),\n",
    "    html.H1(children='Scatter Plot for Support vs Confidence'),\n",
    "    html.Div([dcc.Graph(id='indicator-graphic')])\n",
    "])\n",
    "\n",
    "@app.callback(\n",
    "    Output('rules','children'),\n",
    "    [Input('min_support', 'value'),Input('min_confidence','value'),Input('min_lift','value')]\n",
    "    )\n",
    "def update_table(x,y,z):\n",
    "    fin_rules=rules(records,min_confidence=y,min_support=x,min_lift=z)\n",
    "    st=[]\n",
    "    for x,y,z in zip(range(len(fin_rules['antecedents'])),fin_rules['antecedents'],fin_rules['consequents']):\n",
    "        st.append(html.P(str(x+1)+\". LHS=\"+y+\" RHS=\"+z))\n",
    "    return st\n",
    "\n",
    "@app.callback(\n",
    "    Output('indicator-graphic','figure'),\n",
    "    [Input('min_support', 'value'),Input('min_confidence','value'),Input('min_lift','value')]\n",
    "    )\n",
    "def update_graph(x,y,z):\n",
    "    fin_rules=rules(records,min_confidence=y,min_support=x,min_lift=z)\n",
    "    st=[]\n",
    "    for x,y,z in zip(range(len(fin_rules['antecedents'])),fin_rules['antecedents'],fin_rules['consequents']):\n",
    "        st.append(str(x+1)+\". LHS=\"+y+\" RHS=\"+z)\n",
    "    gp={\n",
    "        'data': [go.Scatter(\n",
    "            x=fin_rules['support'],\n",
    "            y=fin_rules['confidence'],\n",
    "            text=st,\n",
    "            mode='markers',\n",
    "            marker={\n",
    "                'size': 15,\n",
    "                'opacity': 0.5,\n",
    "                'color':fin_rules['lift'],\n",
    "                'colorscale':'Viridis',\n",
    "                'line': {'width': 0.5, 'color': 'white'},\n",
    "                'showscale':True\n",
    "            }\n",
    "        )],\n",
    "        'layout': {\n",
    "            'xaxis':{\n",
    "                'title': 'support',\n",
    "                'type': 'linear'\n",
    "            },\n",
    "            'yaxis':{\n",
    "                'title': 'confidence',\n",
    "                'type': 'linear'\n",
    "            },\n",
    "            'margin':{'l': 40, 'b': 40, 't': 10, 'r': 0},\n",
    "            'hovermode':'closest'\n",
    "        }\n",
    "    }\n",
    "    return gp\n",
    "\n",
    "if __name__ == '__main__':\n",
    "    app.run_server(debug=True)"
   ]
  },
  {
   "cell_type": "code",
   "execution_count": 2,
   "metadata": {},
   "outputs": [
    {
     "name": "stdout",
     "output_type": "stream",
     "text": [
      "Requirement already satisfied: dash==1.3.0 in /anaconda3/lib/python3.7/site-packages (1.3.0)\n",
      "Requirement already satisfied: dash-html-components==1.0.1 in /anaconda3/lib/python3.7/site-packages (from dash==1.3.0) (1.0.1)\n",
      "Requirement already satisfied: dash-table==4.3.0 in /anaconda3/lib/python3.7/site-packages (from dash==1.3.0) (4.3.0)\n",
      "Requirement already satisfied: plotly in /anaconda3/lib/python3.7/site-packages (from dash==1.3.0) (4.1.1)\n",
      "Requirement already satisfied: flask-compress in /anaconda3/lib/python3.7/site-packages (from dash==1.3.0) (1.4.0)\n",
      "Requirement already satisfied: future in /anaconda3/lib/python3.7/site-packages (from dash==1.3.0) (0.17.1)\n",
      "Requirement already satisfied: dash-renderer==1.1.0 in /anaconda3/lib/python3.7/site-packages (from dash==1.3.0) (1.1.0)\n",
      "Requirement already satisfied: Flask>=1.0.2 in /anaconda3/lib/python3.7/site-packages (from dash==1.3.0) (1.1.1)\n",
      "Requirement already satisfied: dash-core-components==1.2.0 in /anaconda3/lib/python3.7/site-packages (from dash==1.3.0) (1.2.0)\n",
      "Requirement already satisfied: retrying>=1.3.3 in /anaconda3/lib/python3.7/site-packages (from plotly->dash==1.3.0) (1.3.3)\n",
      "Requirement already satisfied: six in /anaconda3/lib/python3.7/site-packages (from plotly->dash==1.3.0) (1.12.0)\n",
      "Requirement already satisfied: Werkzeug>=0.15 in /anaconda3/lib/python3.7/site-packages (from Flask>=1.0.2->dash==1.3.0) (0.15.4)\n",
      "Requirement already satisfied: Jinja2>=2.10.1 in /anaconda3/lib/python3.7/site-packages (from Flask>=1.0.2->dash==1.3.0) (2.10.1)\n",
      "Requirement already satisfied: click>=5.1 in /anaconda3/lib/python3.7/site-packages (from Flask>=1.0.2->dash==1.3.0) (7.0)\n",
      "Requirement already satisfied: itsdangerous>=0.24 in /anaconda3/lib/python3.7/site-packages (from Flask>=1.0.2->dash==1.3.0) (1.1.0)\n",
      "Requirement already satisfied: MarkupSafe>=0.23 in /anaconda3/lib/python3.7/site-packages (from Jinja2>=2.10.1->Flask>=1.0.2->dash==1.3.0) (1.1.1)\n",
      "Requirement already satisfied: dash-daq==0.1.0 in /anaconda3/lib/python3.7/site-packages (0.1.0)\n"
     ]
    }
   ],
   "source": [
    "! pip install dash==1.3.0  # The core dash backend\n",
    "! pip install dash-daq==0.1.0"
   ]
  },
  {
   "cell_type": "code",
   "execution_count": null,
   "metadata": {},
   "outputs": [],
   "source": []
  }
 ],
 "metadata": {
  "kernelspec": {
   "display_name": "Python 3",
   "language": "python",
   "name": "python3"
  },
  "language_info": {
   "codemirror_mode": {
    "name": "ipython",
    "version": 3
   },
   "file_extension": ".py",
   "mimetype": "text/x-python",
   "name": "python",
   "nbconvert_exporter": "python",
   "pygments_lexer": "ipython3",
   "version": "3.7.3"
  }
 },
 "nbformat": 4,
 "nbformat_minor": 2
}
